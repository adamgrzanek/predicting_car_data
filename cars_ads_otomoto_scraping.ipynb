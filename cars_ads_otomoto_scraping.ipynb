{
  "cells": [
    {
      "cell_type": "markdown",
      "metadata": {
        "id": "view-in-github",
        "colab_type": "text"
      },
      "source": [
        "<a href=\"https://colab.research.google.com/github/adamgrzanek/predicting_car_data/blob/main/cars_ads_otomoto_scraping.ipynb\" target=\"_parent\"><img src=\"https://colab.research.google.com/assets/colab-badge.svg\" alt=\"Open In Colab\"/></a>"
      ]
    },
    {
      "cell_type": "markdown",
      "source": [
        "Downloading car ads from otomoto.pl\n",
        "\n",
        "The main goal is to retrieve a data frame with information about cars"
      ],
      "metadata": {
        "id": "jxCpgTb2HmLL"
      }
    },
    {
      "cell_type": "code",
      "execution_count": 2,
      "metadata": {
        "id": "lfNYSRYbQ9KH"
      },
      "outputs": [],
      "source": [
        "import numpy as np\n",
        "import pandas as pd\n",
        "import requests\n",
        "from bs4 import BeautifulSoup\n",
        "import json\n",
        "from time import sleep\n",
        "from matplotlib import pyplot as plt"
      ]
    },
    {
      "cell_type": "markdown",
      "source": [
        "## Checking the page layout"
      ],
      "metadata": {
        "id": "Uh8jfbhFgzPr"
      }
    },
    {
      "cell_type": "code",
      "execution_count": 3,
      "metadata": {
        "id": "N89-DpCdQ3DG"
      },
      "outputs": [],
      "source": [
        "page_number = 1\n",
        "url = f\"https://www.otomoto.pl/osobowe/uzywane/seg-mini/od-2000?search%5Bfilter_enum_damaged%5D=0&search%5Bfilter_enum_registered%5D=1&search%5Bfilter_float_mileage%3Ato%5D=500000&page={page_number}&search%5Badvanced_search_expanded%5D=true\""
      ]
    },
    {
      "cell_type": "code",
      "execution_count": 4,
      "metadata": {
        "id": "r1PKrVxsRDDk",
        "colab": {
          "base_uri": "https://localhost:8080/"
        },
        "outputId": "b759820e-6cc3-4642-933b-3b484cc61c2c"
      },
      "outputs": [
        {
          "output_type": "execute_result",
          "data": {
            "text/plain": [
              "<Response [200]>"
            ]
          },
          "metadata": {},
          "execution_count": 4
        }
      ],
      "source": [
        "response = requests.get(url=url)\n",
        "response"
      ]
    },
    {
      "cell_type": "code",
      "execution_count": 5,
      "metadata": {
        "id": "lUoCFVBlRiMf"
      },
      "outputs": [],
      "source": [
        "content = response.text\n",
        "soup = BeautifulSoup(content, 'html.parser')"
      ]
    },
    {
      "cell_type": "code",
      "execution_count": null,
      "metadata": {
        "id": "5OOdBDSkiXiI"
      },
      "outputs": [],
      "source": [
        "print(soup.prettify())"
      ]
    },
    {
      "cell_type": "code",
      "execution_count": 7,
      "metadata": {
        "id": "o3OP0ua1-id6"
      },
      "outputs": [],
      "source": [
        "offers = soup.find_all('h1', {'class': \"ev7e6t89 ooa-1xvnx1e er34gjf0\"})"
      ]
    },
    {
      "cell_type": "code",
      "execution_count": 8,
      "metadata": {
        "colab": {
          "base_uri": "https://localhost:8080/"
        },
        "id": "txlfr4FkEcMw",
        "outputId": "4a0a7f05-223a-4683-aa45-2442c08d237d"
      },
      "outputs": [
        {
          "output_type": "execute_result",
          "data": {
            "text/plain": [
              "36"
            ]
          },
          "metadata": {},
          "execution_count": 8
        }
      ],
      "source": [
        "len(offers)"
      ]
    },
    {
      "cell_type": "code",
      "execution_count": 11,
      "metadata": {
        "colab": {
          "base_uri": "https://localhost:8080/"
        },
        "id": "Nj8LHs_FEd46",
        "outputId": "c89e5cf8-dcb4-47e3-b5d1-af9cce62aa6f"
      },
      "outputs": [
        {
          "output_type": "stream",
          "name": "stdout",
          "text": [
            "<h1 class=\"ev7e6t89 ooa-1xvnx1e er34gjf0\">\n",
            " <a href=\"https://www.otomoto.pl/osobowe/oferta/citroen-c3-1-4-hdi-68km-lift-led-klimatronic-navi-tempomat-ID6FPXr1.html\" rel=\"noreferrer\" target=\"_self\">\n",
            "  Citroën C3 1.4 HDi Attraction\n",
            " </a>\n",
            "</h1>\n",
            "\n"
          ]
        }
      ],
      "source": [
        "print(offers[0].prettify())"
      ]
    },
    {
      "cell_type": "markdown",
      "metadata": {
        "id": "ynclBMUlMtnW"
      },
      "source": [
        "## Checking the offer page layout"
      ]
    },
    {
      "cell_type": "code",
      "execution_count": 10,
      "metadata": {
        "colab": {
          "base_uri": "https://localhost:8080/",
          "height": 36
        },
        "id": "5t1yrrJ6FAfi",
        "outputId": "fa35e7ac-261e-4ada-8bce-590f1f2d70ae"
      },
      "outputs": [
        {
          "output_type": "execute_result",
          "data": {
            "text/plain": [
              "'https://www.otomoto.pl/osobowe/oferta/citroen-c3-1-4-hdi-68km-lift-led-klimatronic-navi-tempomat-ID6FPXr1.html'"
            ],
            "application/vnd.google.colaboratory.intrinsic+json": {
              "type": "string"
            }
          },
          "metadata": {},
          "execution_count": 10
        }
      ],
      "source": [
        "# example offer url\n",
        "offer_url = offers[0].find('a')['href']\n",
        "offer_url"
      ]
    },
    {
      "cell_type": "code",
      "execution_count": 12,
      "metadata": {
        "colab": {
          "base_uri": "https://localhost:8080/"
        },
        "id": "qzXvve_RM020",
        "outputId": "ebf945ad-e144-49b6-b4bf-4147d5b7d007"
      },
      "outputs": [
        {
          "output_type": "execute_result",
          "data": {
            "text/plain": [
              "<Response [200]>"
            ]
          },
          "metadata": {},
          "execution_count": 12
        }
      ],
      "source": [
        "offer_response = requests.get(url=offer_url)\n",
        "offer_response"
      ]
    },
    {
      "cell_type": "code",
      "execution_count": null,
      "metadata": {
        "id": "NDMgr7P3NMys"
      },
      "outputs": [],
      "source": [
        "offer_content = offer_response.text\n",
        "offer_soup = BeautifulSoup(offer_content, 'html.parser')\n",
        "\n",
        "print(offer_soup.prettify())"
      ]
    },
    {
      "cell_type": "markdown",
      "metadata": {
        "id": "bqcaZ7Xt8wfx"
      },
      "source": [
        "## Scraping data from the offer\n",
        "('script', {'id': \"__NEXT_DATA__\"})"
      ]
    },
    {
      "cell_type": "code",
      "execution_count": 14,
      "metadata": {
        "id": "V3dVdBiJ8xmr"
      },
      "outputs": [],
      "source": [
        "text = offer_soup.find('script', {'id': \"__NEXT_DATA__\"}).get_text()"
      ]
    },
    {
      "cell_type": "code",
      "execution_count": null,
      "metadata": {
        "id": "qtZSvEIp9dMj"
      },
      "outputs": [],
      "source": [
        "data_json = json.loads(text)\n",
        "data_json"
      ]
    },
    {
      "cell_type": "code",
      "execution_count": null,
      "metadata": {
        "id": "bZgLL9aQBssA"
      },
      "outputs": [],
      "source": [
        "data_json['props']['pageProps']['advert']"
      ]
    },
    {
      "cell_type": "markdown",
      "metadata": {
        "id": "yhydsCAPIdxi"
      },
      "source": [
        "### Price"
      ]
    },
    {
      "cell_type": "code",
      "execution_count": 17,
      "metadata": {
        "colab": {
          "base_uri": "https://localhost:8080/"
        },
        "id": "KK5Fd3d9Em0N",
        "outputId": "8761f921-d809-4a8e-d3ca-2ab3f24926d9"
      },
      "outputs": [
        {
          "output_type": "execute_result",
          "data": {
            "text/plain": [
              "{'value': '12999',\n",
              " 'currency': 'PLN',\n",
              " 'labels': [],\n",
              " 'type': 'gross',\n",
              " 'isUnderBudget': False}"
            ]
          },
          "metadata": {},
          "execution_count": 17
        }
      ],
      "source": [
        "data_json['props']['pageProps']['advert']['price']"
      ]
    },
    {
      "cell_type": "code",
      "execution_count": 18,
      "metadata": {
        "colab": {
          "base_uri": "https://localhost:8080/"
        },
        "id": "XL_2GKxQFOtQ",
        "outputId": "34b4b16b-57c2-4efb-ee17-9267b3c52718"
      },
      "outputs": [
        {
          "output_type": "execute_result",
          "data": {
            "text/plain": [
              "12999.0"
            ]
          },
          "metadata": {},
          "execution_count": 18
        }
      ],
      "source": [
        "price = float(data_json['props']['pageProps']['advert']['price']['value'])\n",
        "price"
      ]
    },
    {
      "cell_type": "markdown",
      "metadata": {
        "id": "_yR8-_WwIhES"
      },
      "source": [
        "### Basic parameters"
      ]
    },
    {
      "cell_type": "code",
      "execution_count": null,
      "metadata": {
        "id": "BGyvjcm29ddE"
      },
      "outputs": [],
      "source": [
        "offer_params = data_json['props']['pageProps']['advert']['details']\n",
        "offer_params"
      ]
    },
    {
      "cell_type": "code",
      "execution_count": 20,
      "metadata": {
        "colab": {
          "base_uri": "https://localhost:8080/"
        },
        "id": "Vcxb_VAL_Ec9",
        "outputId": "a6295999-d2b7-4517-f98f-cc7d8f7cd96e"
      },
      "outputs": [
        {
          "output_type": "execute_result",
          "data": {
            "text/plain": [
              "{'key': 'private_business',\n",
              " 'label': 'Oferta od',\n",
              " 'value': 'Prywatne',\n",
              " 'href': 'https://www.otomoto.pl/osobowe/?search%5Bprivate_business%5D=private'}"
            ]
          },
          "metadata": {},
          "execution_count": 20
        }
      ],
      "source": [
        "offer_params[0]"
      ]
    },
    {
      "cell_type": "code",
      "execution_count": 21,
      "metadata": {
        "colab": {
          "base_uri": "https://localhost:8080/"
        },
        "id": "Nno1qZM0_FqK",
        "outputId": "10aba06f-ab8c-4979-861d-cdc168b66c86"
      },
      "outputs": [
        {
          "output_type": "execute_result",
          "data": {
            "text/plain": [
              "{'Oferta od': 'Prywatne',\n",
              " 'Importowany': 'Tak',\n",
              " 'Pokaż oferty z numerem VIN': 'Tak',\n",
              " 'Ma numer rejestracyjny': 'Tak',\n",
              " 'Marka pojazdu': 'Citroën',\n",
              " 'Model pojazdu': 'C3',\n",
              " 'Wersja': '1.4 HDi Attraction',\n",
              " 'Generacja': 'II (2008-2018)',\n",
              " 'Rok produkcji': '2014',\n",
              " 'Przebieg': '167 500 km',\n",
              " 'Pojemność skokowa': '1 398 cm3',\n",
              " 'VIN': 'VF7SC8HR4EW648604',\n",
              " 'Rodzaj paliwa': 'Diesel',\n",
              " 'Moc': '68 KM',\n",
              " 'Skrzynia biegów': 'Manualna',\n",
              " 'Napęd': 'Na przednie koła',\n",
              " 'Spalanie Poza Miastem': '3.0 l/100km',\n",
              " 'Spalanie W Mieście': '4 l/100km',\n",
              " 'Typ nadwozia': 'Auta małe',\n",
              " 'Emisja CO2': '99 g/km',\n",
              " 'Liczba drzwi': '5',\n",
              " 'Liczba miejsc': '2',\n",
              " 'Kolor': 'Srebrny',\n",
              " 'Rodzaj koloru': 'Metalik',\n",
              " 'Kraj pochodzenia': 'Francja',\n",
              " 'Data pierwszej rejestracji w historii pojazdu': '24 wrzesień 2014',\n",
              " 'Zarejestrowany w Polsce': 'Tak',\n",
              " 'Stan': 'Używane'}"
            ]
          },
          "metadata": {},
          "execution_count": 21
        }
      ],
      "source": [
        "offer_data = {}\n",
        "for i in offer_params:\n",
        "    label = i['label']\n",
        "    value = i['value']\n",
        "    offer_data[label] = value\n",
        "\n",
        "offer_data"
      ]
    },
    {
      "cell_type": "markdown",
      "metadata": {
        "id": "fcg4UtZzHJgl"
      },
      "source": [
        "### Description"
      ]
    },
    {
      "cell_type": "code",
      "execution_count": 22,
      "metadata": {
        "id": "M5lhhnEJ9X-l",
        "colab": {
          "base_uri": "https://localhost:8080/",
          "height": 122
        },
        "outputId": "0628e20b-c5fe-4cbd-c571-fc22da9c26ed"
      },
      "outputs": [
        {
          "output_type": "execute_result",
          "data": {
            "text/plain": [
              "'!!! WERSJA 2 OSOBOWA - BRAK TYLNEJ KANAPY !!!  CITROEN C3 II HATCHBACK SOCIETE PO FACELIFTINGU 1.4 HDi 68 KM (50kW) DIESEL  Pierwsza rejestracja: 24.09.2014 Rok produkcji: 2014  Przegląd do 12.2023 OC do 07.2024  Nr rej.: CB322JW  VIN - podany wyżej w szczegółach pojazdu !!!  Kolor - SREBRNY METALIK  Przebieg - 167 500 km (oryginalny przebieg)  Sprowadzony z Francji w 2019  Wyposażenie:  - SOCIETE - 2 osobowy - 5-cio biegowa skrzynia biegów - światła LED do jazdy dziennej - ABS - ESP - regulowana kierownica - 4 x AIRBAG - 2 x el.szyby - el.lusterka (podgrzewane) - klimatronic (automatyczna klimatyzacja) - klimatyzowany schowek - komputer pokładowy - regulacja wysokości fotela kierowcy - immobilizer - TEMPOMAT - oryginalne radio CD + Mp3 + USB - oryginalna KOLOROWA NAWIGACJA - zestaw głośnomówiący na Bluetooth - centralny zamek na pilota - 2 szt oryginalnych kluczy  Cena: 12 999 zł  Zapraszam na oględziny i jazdę próbną !!!'"
            ],
            "application/vnd.google.colaboratory.intrinsic+json": {
              "type": "string"
            }
          },
          "metadata": {},
          "execution_count": 22
        }
      ],
      "source": [
        "description = data_json['props']['pageProps']['advert']['description'].replace('\\n', ' ')\n",
        "description"
      ]
    },
    {
      "cell_type": "markdown",
      "metadata": {
        "id": "iw7BSdwsHFAe"
      },
      "source": [
        "### Seller"
      ]
    },
    {
      "cell_type": "code",
      "execution_count": 23,
      "metadata": {
        "colab": {
          "base_uri": "https://localhost:8080/"
        },
        "id": "TtkgKGEU98EC",
        "outputId": "f89c07c0-cedb-4c7a-eada-f03e372b3dfc"
      },
      "outputs": [
        {
          "output_type": "execute_result",
          "data": {
            "text/plain": [
              "{'type': 'PRIVATE',\n",
              " 'name': 'Radosław',\n",
              " 'featuresBadges': [{'code': 'private-seller', 'label': 'Osoba prywatna'},\n",
              "  {'code': 'fast-reply', 'label': 'Bardzo sprawnie odpowiada'},\n",
              "  {'code': 'registration-date', 'label': 'Sprzedający na OTOMOTO od 2015'}],\n",
              " 'logos': [],\n",
              " 'location': {'address': 'Bydgoszcz, Kujawsko-pomorskie',\n",
              "  'city': 'Bydgoszcz',\n",
              "  'cityId': 4019,\n",
              "  'region': 'Kujawsko-pomorskie',\n",
              "  'regionId': 15,\n",
              "  'country': None,\n",
              "  'postalCode': None,\n",
              "  'shortAddress': 'Bydgoszcz, Kujawsko-pomorskie',\n",
              "  'map': {'latitude': 53.1342,\n",
              "   'longitude': 17.99035,\n",
              "   'zoom': 13,\n",
              "   'radius': 1500}},\n",
              " 'id': '1740079',\n",
              " 'uuid': 'b389755d-56a7-4ddc-9d25-be2da4f52eb0'}"
            ]
          },
          "metadata": {},
          "execution_count": 23
        }
      ],
      "source": [
        "seller = data_json['props']['pageProps']['advert']['seller']\n",
        "seller"
      ]
    },
    {
      "cell_type": "code",
      "execution_count": 24,
      "metadata": {
        "colab": {
          "base_uri": "https://localhost:8080/"
        },
        "id": "IlYxR2Y9-D1A",
        "outputId": "5efb4b2d-f4e1-4b53-e95b-15dd81138779"
      },
      "outputs": [
        {
          "output_type": "execute_result",
          "data": {
            "text/plain": [
              "{'address': 'Bydgoszcz, Kujawsko-pomorskie',\n",
              " 'city': 'Bydgoszcz',\n",
              " 'cityId': 4019,\n",
              " 'region': 'Kujawsko-pomorskie',\n",
              " 'regionId': 15,\n",
              " 'country': None,\n",
              " 'postalCode': None,\n",
              " 'shortAddress': 'Bydgoszcz, Kujawsko-pomorskie',\n",
              " 'map': {'latitude': 53.1342,\n",
              "  'longitude': 17.99035,\n",
              "  'zoom': 13,\n",
              "  'radius': 1500}}"
            ]
          },
          "metadata": {},
          "execution_count": 24
        }
      ],
      "source": [
        "seller['location']"
      ]
    },
    {
      "cell_type": "code",
      "execution_count": 25,
      "metadata": {
        "colab": {
          "base_uri": "https://localhost:8080/",
          "height": 36
        },
        "id": "ao4hH_8P-cXF",
        "outputId": "c7eb364d-06f2-40de-f986-47308f18f0e1"
      },
      "outputs": [
        {
          "output_type": "execute_result",
          "data": {
            "text/plain": [
              "'Kujawsko-pomorskie'"
            ],
            "application/vnd.google.colaboratory.intrinsic+json": {
              "type": "string"
            }
          },
          "metadata": {},
          "execution_count": 25
        }
      ],
      "source": [
        "seller_province = seller['location']['region']\n",
        "seller_province"
      ]
    },
    {
      "cell_type": "markdown",
      "metadata": {
        "id": "2Jdm8dUt9NwL"
      },
      "source": [
        "### Equipment"
      ]
    },
    {
      "cell_type": "code",
      "execution_count": 26,
      "metadata": {
        "colab": {
          "base_uri": "https://localhost:8080/"
        },
        "id": "eXkuq3OIUMDV",
        "outputId": "9d5efe79-2b65-4758-e6b5-f4812947fd5f"
      },
      "outputs": [
        {
          "output_type": "execute_result",
          "data": {
            "text/plain": [
              "[{'key': 'audio_and_computing',\n",
              "  'label': 'Audio i multimedia',\n",
              "  'values': [{'key': 'bluetooth_interface', 'label': 'Interfejs Bluetooth'},\n",
              "   {'key': 'radio', 'label': 'Radio'},\n",
              "   {'key': 'hands_free_system', 'label': 'Zestaw głośnomówiący'},\n",
              "   {'key': 'usb_in', 'label': 'Gniazdo USB'},\n",
              "   {'key': 'navigation_system', 'label': 'System nawigacji satelitarnej'}]},\n",
              " {'key': 'comfort_and_addons',\n",
              "  'label': 'Komfort i dodatki',\n",
              "  'values': [{'key': 'air_conditioning_type',\n",
              "    'label': 'Klimatyzacja automatyczna'},\n",
              "   {'key': 'steering_wheel_with_radio_operation',\n",
              "    'label': 'Kierownica ze sterowaniem radia'},\n",
              "   {'key': 'multi_functional_steering_wheel',\n",
              "    'label': 'Kierownica wielofunkcyjna'},\n",
              "   {'key': 'power_windows_front', 'label': 'Elektryczne szyby przednie'}]},\n",
              " {'key': 'electronics_and_driver_assistance',\n",
              "  'label': 'Systemy wspomagania kierowcy',\n",
              "  'values': [{'key': 'cruisecontrol_type', 'label': 'Tempomat'},\n",
              "   {'key': 'door_mirror_electrically_adjustable_in_general',\n",
              "    'label': 'Lusterka boczne ustawiane elektrycznie'},\n",
              "   {'key': 'door_mirrors_heated', 'label': 'Podgrzewane lusterka boczne'},\n",
              "   {'key': 'speed_limiter', 'label': 'Ogranicznik prędkości'},\n",
              "   {'key': 'traction_control', 'label': 'Kontrola trakcji'},\n",
              "   {'key': 'led_daytime_running_lights',\n",
              "    'label': 'Światła do jazdy dziennej diodowe LED'},\n",
              "   {'key': 'power_steering', 'label': 'Wspomaganie kierownicy'}]},\n",
              " {'key': 'performance_and_tuning',\n",
              "  'label': 'Osiągi i tuning',\n",
              "  'values': [{'key': 'alloy_wheels_type', 'label': 'Felgi stalowe'}]},\n",
              " {'key': 'security',\n",
              "  'label': 'Bezpieczeństwo',\n",
              "  'values': [{'key': 'antilock_brake_system', 'label': 'ABS'},\n",
              "   {'key': 'esp', 'label': 'ESP'},\n",
              "   {'key': 'distribution_of_braking_force_electronically',\n",
              "    'label': 'Elektroniczny system rozdziału siły hamowania'},\n",
              "   {'key': 'power_assisted_brakes', 'label': 'System wspomagania hamowania'},\n",
              "   {'key': 'driver_airbag', 'label': 'Poduszka powietrzna kierowcy'},\n",
              "   {'key': 'passenger_airbag', 'label': 'Poduszka powietrzna pasażera'},\n",
              "   {'key': 'side_airbag_driver',\n",
              "    'label': 'Boczna poduszka powietrzna kierowcy'},\n",
              "   {'key': 'side_airbag_driver_and_passenger',\n",
              "    'label': 'Boczne poduszki powietrzne - przód'},\n",
              "   {'key': 'child_seat_fixation',\n",
              "    'label': 'Isofix (punkty mocowania fotelika dziecięcego)'}]}]"
            ]
          },
          "metadata": {},
          "execution_count": 26
        }
      ],
      "source": [
        "data_json['props']['pageProps']['advert']['equipment']"
      ]
    },
    {
      "cell_type": "code",
      "execution_count": 27,
      "metadata": {
        "colab": {
          "base_uri": "https://localhost:8080/"
        },
        "id": "4r6EvWItVRql",
        "outputId": "375cd6b6-e88e-4b48-b728-b41f35bcf913"
      },
      "outputs": [
        {
          "output_type": "execute_result",
          "data": {
            "text/plain": [
              "{'key': 'audio_and_computing',\n",
              " 'label': 'Audio i multimedia',\n",
              " 'values': [{'key': 'bluetooth_interface', 'label': 'Interfejs Bluetooth'},\n",
              "  {'key': 'radio', 'label': 'Radio'},\n",
              "  {'key': 'hands_free_system', 'label': 'Zestaw głośnomówiący'},\n",
              "  {'key': 'usb_in', 'label': 'Gniazdo USB'},\n",
              "  {'key': 'navigation_system', 'label': 'System nawigacji satelitarnej'}]}"
            ]
          },
          "metadata": {},
          "execution_count": 27
        }
      ],
      "source": [
        "equipment = data_json['props']['pageProps']['advert']['equipment']\n",
        "equipment[0]"
      ]
    },
    {
      "cell_type": "code",
      "source": [
        "equipment[1]"
      ],
      "metadata": {
        "colab": {
          "base_uri": "https://localhost:8080/"
        },
        "id": "Cr8qLZpc3sQt",
        "outputId": "4d711d5b-fb05-4937-e781-8f0d0f34425f"
      },
      "execution_count": 28,
      "outputs": [
        {
          "output_type": "execute_result",
          "data": {
            "text/plain": [
              "{'key': 'comfort_and_addons',\n",
              " 'label': 'Komfort i dodatki',\n",
              " 'values': [{'key': 'air_conditioning_type',\n",
              "   'label': 'Klimatyzacja automatyczna'},\n",
              "  {'key': 'steering_wheel_with_radio_operation',\n",
              "   'label': 'Kierownica ze sterowaniem radia'},\n",
              "  {'key': 'multi_functional_steering_wheel',\n",
              "   'label': 'Kierownica wielofunkcyjna'},\n",
              "  {'key': 'power_windows_front', 'label': 'Elektryczne szyby przednie'}]}"
            ]
          },
          "metadata": {},
          "execution_count": 28
        }
      ]
    },
    {
      "cell_type": "code",
      "execution_count": 29,
      "metadata": {
        "colab": {
          "base_uri": "https://localhost:8080/"
        },
        "id": "NTwGjBYlq41W",
        "outputId": "7b6e5e1e-13e9-4376-c92b-5f3171733e0f"
      },
      "outputs": [
        {
          "output_type": "execute_result",
          "data": {
            "text/plain": [
              "[{'key': 'bluetooth_interface', 'label': 'Interfejs Bluetooth'},\n",
              " {'key': 'radio', 'label': 'Radio'},\n",
              " {'key': 'hands_free_system', 'label': 'Zestaw głośnomówiący'},\n",
              " {'key': 'usb_in', 'label': 'Gniazdo USB'},\n",
              " {'key': 'navigation_system', 'label': 'System nawigacji satelitarnej'}]"
            ]
          },
          "metadata": {},
          "execution_count": 29
        }
      ],
      "source": [
        "equipment[0]['values']"
      ]
    },
    {
      "cell_type": "code",
      "execution_count": 30,
      "metadata": {
        "colab": {
          "base_uri": "https://localhost:8080/"
        },
        "id": "oNMYPtdkqC6Q",
        "outputId": "f9077161-7eff-4386-994d-d1f6f45c1b25"
      },
      "outputs": [
        {
          "output_type": "execute_result",
          "data": {
            "text/plain": [
              "{'key': 'bluetooth_interface', 'label': 'Interfejs Bluetooth'}"
            ]
          },
          "metadata": {},
          "execution_count": 30
        }
      ],
      "source": [
        "equipment[0]['values'][0]"
      ]
    },
    {
      "cell_type": "code",
      "execution_count": 31,
      "metadata": {
        "colab": {
          "base_uri": "https://localhost:8080/"
        },
        "id": "1IpB3IoFpzS-",
        "outputId": "c6453478-c46d-4eb9-a6f0-be972345d8b3"
      },
      "outputs": [
        {
          "output_type": "execute_result",
          "data": {
            "text/plain": [
              "['Interfejs Bluetooth',\n",
              " 'Radio',\n",
              " 'Zestaw głośnomówiący',\n",
              " 'Gniazdo USB',\n",
              " 'System nawigacji satelitarnej']"
            ]
          },
          "metadata": {},
          "execution_count": 31
        }
      ],
      "source": [
        "[i['label'] for i in equipment[0]['values']]"
      ]
    },
    {
      "cell_type": "code",
      "execution_count": 32,
      "metadata": {
        "id": "8U5VVqrxWdJ0",
        "colab": {
          "base_uri": "https://localhost:8080/"
        },
        "outputId": "1d47b6bd-376d-4901-8612-2a8272a79e86"
      },
      "outputs": [
        {
          "output_type": "stream",
          "name": "stdout",
          "text": [
            "{'key': 'audio_and_computing', 'label': 'Audio i multimedia', 'values': [{'key': 'bluetooth_interface', 'label': 'Interfejs Bluetooth'}, {'key': 'radio', 'label': 'Radio'}, {'key': 'hands_free_system', 'label': 'Zestaw głośnomówiący'}, {'key': 'usb_in', 'label': 'Gniazdo USB'}, {'key': 'navigation_system', 'label': 'System nawigacji satelitarnej'}]}\n",
            "[{'key': 'bluetooth_interface', 'label': 'Interfejs Bluetooth'}, {'key': 'radio', 'label': 'Radio'}, {'key': 'hands_free_system', 'label': 'Zestaw głośnomówiący'}, {'key': 'usb_in', 'label': 'Gniazdo USB'}, {'key': 'navigation_system', 'label': 'System nawigacji satelitarnej'}]\n",
            "['Interfejs Bluetooth', 'Radio', 'Zestaw głośnomówiący', 'Gniazdo USB', 'System nawigacji satelitarnej']\n",
            "----\n",
            "{'key': 'comfort_and_addons', 'label': 'Komfort i dodatki', 'values': [{'key': 'air_conditioning_type', 'label': 'Klimatyzacja automatyczna'}, {'key': 'steering_wheel_with_radio_operation', 'label': 'Kierownica ze sterowaniem radia'}, {'key': 'multi_functional_steering_wheel', 'label': 'Kierownica wielofunkcyjna'}, {'key': 'power_windows_front', 'label': 'Elektryczne szyby przednie'}]}\n",
            "[{'key': 'air_conditioning_type', 'label': 'Klimatyzacja automatyczna'}, {'key': 'steering_wheel_with_radio_operation', 'label': 'Kierownica ze sterowaniem radia'}, {'key': 'multi_functional_steering_wheel', 'label': 'Kierownica wielofunkcyjna'}, {'key': 'power_windows_front', 'label': 'Elektryczne szyby przednie'}]\n",
            "['Klimatyzacja automatyczna', 'Kierownica ze sterowaniem radia', 'Kierownica wielofunkcyjna', 'Elektryczne szyby przednie']\n",
            "----\n",
            "{'key': 'electronics_and_driver_assistance', 'label': 'Systemy wspomagania kierowcy', 'values': [{'key': 'cruisecontrol_type', 'label': 'Tempomat'}, {'key': 'door_mirror_electrically_adjustable_in_general', 'label': 'Lusterka boczne ustawiane elektrycznie'}, {'key': 'door_mirrors_heated', 'label': 'Podgrzewane lusterka boczne'}, {'key': 'speed_limiter', 'label': 'Ogranicznik prędkości'}, {'key': 'traction_control', 'label': 'Kontrola trakcji'}, {'key': 'led_daytime_running_lights', 'label': 'Światła do jazdy dziennej diodowe LED'}, {'key': 'power_steering', 'label': 'Wspomaganie kierownicy'}]}\n",
            "[{'key': 'cruisecontrol_type', 'label': 'Tempomat'}, {'key': 'door_mirror_electrically_adjustable_in_general', 'label': 'Lusterka boczne ustawiane elektrycznie'}, {'key': 'door_mirrors_heated', 'label': 'Podgrzewane lusterka boczne'}, {'key': 'speed_limiter', 'label': 'Ogranicznik prędkości'}, {'key': 'traction_control', 'label': 'Kontrola trakcji'}, {'key': 'led_daytime_running_lights', 'label': 'Światła do jazdy dziennej diodowe LED'}, {'key': 'power_steering', 'label': 'Wspomaganie kierownicy'}]\n",
            "['Tempomat', 'Lusterka boczne ustawiane elektrycznie', 'Podgrzewane lusterka boczne', 'Ogranicznik prędkości', 'Kontrola trakcji', 'Światła do jazdy dziennej diodowe LED', 'Wspomaganie kierownicy']\n",
            "----\n",
            "{'key': 'performance_and_tuning', 'label': 'Osiągi i tuning', 'values': [{'key': 'alloy_wheels_type', 'label': 'Felgi stalowe'}]}\n",
            "[{'key': 'alloy_wheels_type', 'label': 'Felgi stalowe'}]\n",
            "['Felgi stalowe']\n",
            "----\n",
            "{'key': 'security', 'label': 'Bezpieczeństwo', 'values': [{'key': 'antilock_brake_system', 'label': 'ABS'}, {'key': 'esp', 'label': 'ESP'}, {'key': 'distribution_of_braking_force_electronically', 'label': 'Elektroniczny system rozdziału siły hamowania'}, {'key': 'power_assisted_brakes', 'label': 'System wspomagania hamowania'}, {'key': 'driver_airbag', 'label': 'Poduszka powietrzna kierowcy'}, {'key': 'passenger_airbag', 'label': 'Poduszka powietrzna pasażera'}, {'key': 'side_airbag_driver', 'label': 'Boczna poduszka powietrzna kierowcy'}, {'key': 'side_airbag_driver_and_passenger', 'label': 'Boczne poduszki powietrzne - przód'}, {'key': 'child_seat_fixation', 'label': 'Isofix (punkty mocowania fotelika dziecięcego)'}]}\n",
            "[{'key': 'antilock_brake_system', 'label': 'ABS'}, {'key': 'esp', 'label': 'ESP'}, {'key': 'distribution_of_braking_force_electronically', 'label': 'Elektroniczny system rozdziału siły hamowania'}, {'key': 'power_assisted_brakes', 'label': 'System wspomagania hamowania'}, {'key': 'driver_airbag', 'label': 'Poduszka powietrzna kierowcy'}, {'key': 'passenger_airbag', 'label': 'Poduszka powietrzna pasażera'}, {'key': 'side_airbag_driver', 'label': 'Boczna poduszka powietrzna kierowcy'}, {'key': 'side_airbag_driver_and_passenger', 'label': 'Boczne poduszki powietrzne - przód'}, {'key': 'child_seat_fixation', 'label': 'Isofix (punkty mocowania fotelika dziecięcego)'}]\n",
            "['ABS', 'ESP', 'Elektroniczny system rozdziału siły hamowania', 'System wspomagania hamowania', 'Poduszka powietrzna kierowcy', 'Poduszka powietrzna pasażera', 'Boczna poduszka powietrzna kierowcy', 'Boczne poduszki powietrzne - przód', 'Isofix (punkty mocowania fotelika dziecięcego)']\n",
            "----\n"
          ]
        }
      ],
      "source": [
        "eq = []\n",
        "for e in equipment:\n",
        "    print(e)\n",
        "    print(e['values'])\n",
        "    equipment_by_category = [i['label'] for i in e['values']]\n",
        "    print(equipment_by_category)\n",
        "    for ebc in equipment_by_category:\n",
        "        eq.append(ebc)\n",
        "    print('----')"
      ]
    },
    {
      "cell_type": "code",
      "source": [
        "# collective equipment list\n",
        "print(eq)"
      ],
      "metadata": {
        "colab": {
          "base_uri": "https://localhost:8080/"
        },
        "id": "Y2veYCSJ6R3A",
        "outputId": "5f670ae7-b1bf-46c3-8e2b-23e6773e46ef"
      },
      "execution_count": 33,
      "outputs": [
        {
          "output_type": "stream",
          "name": "stdout",
          "text": [
            "['Interfejs Bluetooth', 'Radio', 'Zestaw głośnomówiący', 'Gniazdo USB', 'System nawigacji satelitarnej', 'Klimatyzacja automatyczna', 'Kierownica ze sterowaniem radia', 'Kierownica wielofunkcyjna', 'Elektryczne szyby przednie', 'Tempomat', 'Lusterka boczne ustawiane elektrycznie', 'Podgrzewane lusterka boczne', 'Ogranicznik prędkości', 'Kontrola trakcji', 'Światła do jazdy dziennej diodowe LED', 'Wspomaganie kierownicy', 'Felgi stalowe', 'ABS', 'ESP', 'Elektroniczny system rozdziału siły hamowania', 'System wspomagania hamowania', 'Poduszka powietrzna kierowcy', 'Poduszka powietrzna pasażera', 'Boczna poduszka powietrzna kierowcy', 'Boczne poduszki powietrzne - przód', 'Isofix (punkty mocowania fotelika dziecięcego)']\n"
          ]
        }
      ]
    },
    {
      "cell_type": "markdown",
      "metadata": {
        "id": "SSmN2S7hKFtu"
      },
      "source": [
        "### Aggregate information"
      ]
    },
    {
      "cell_type": "code",
      "execution_count": 34,
      "metadata": {
        "id": "gfwyGJ3rKI27"
      },
      "outputs": [],
      "source": [
        "offer_data = {}\n",
        "\n",
        "adv = data_json['props']['pageProps']['advert']\n",
        "\n",
        "price = float(adv['price']['value'])\n",
        "description = adv['description'].replace('\\n', ' ')\n",
        "seller_province = adv['seller']['location']['region']\n",
        "offer_params = adv['details']\n",
        "\n",
        "for i in offer_params:\n",
        "    label = i['label']\n",
        "    value = i['value']\n",
        "    offer_data[label] = value\n",
        "\n",
        "offer_data['cena'] = price\n",
        "offer_data['opis'] = description\n",
        "offer_data['Wojewodztwo_sprzedajacego'] = seller_province"
      ]
    },
    {
      "cell_type": "code",
      "source": [
        "offer_data"
      ],
      "metadata": {
        "colab": {
          "base_uri": "https://localhost:8080/"
        },
        "id": "P9zPQXS875gS",
        "outputId": "fe18993a-e2dc-4762-86f5-a43ac8ddbb9f"
      },
      "execution_count": 35,
      "outputs": [
        {
          "output_type": "execute_result",
          "data": {
            "text/plain": [
              "{'Oferta od': 'Prywatne',\n",
              " 'Importowany': 'Tak',\n",
              " 'Pokaż oferty z numerem VIN': 'Tak',\n",
              " 'Ma numer rejestracyjny': 'Tak',\n",
              " 'Marka pojazdu': 'Citroën',\n",
              " 'Model pojazdu': 'C3',\n",
              " 'Wersja': '1.4 HDi Attraction',\n",
              " 'Generacja': 'II (2008-2018)',\n",
              " 'Rok produkcji': '2014',\n",
              " 'Przebieg': '167 500 km',\n",
              " 'Pojemność skokowa': '1 398 cm3',\n",
              " 'VIN': 'VF7SC8HR4EW648604',\n",
              " 'Rodzaj paliwa': 'Diesel',\n",
              " 'Moc': '68 KM',\n",
              " 'Skrzynia biegów': 'Manualna',\n",
              " 'Napęd': 'Na przednie koła',\n",
              " 'Spalanie Poza Miastem': '3.0 l/100km',\n",
              " 'Spalanie W Mieście': '4 l/100km',\n",
              " 'Typ nadwozia': 'Auta małe',\n",
              " 'Emisja CO2': '99 g/km',\n",
              " 'Liczba drzwi': '5',\n",
              " 'Liczba miejsc': '2',\n",
              " 'Kolor': 'Srebrny',\n",
              " 'Rodzaj koloru': 'Metalik',\n",
              " 'Kraj pochodzenia': 'Francja',\n",
              " 'Data pierwszej rejestracji w historii pojazdu': '24 wrzesień 2014',\n",
              " 'Zarejestrowany w Polsce': 'Tak',\n",
              " 'Stan': 'Używane',\n",
              " 'cena': 12999.0,\n",
              " 'opis': '!!! WERSJA 2 OSOBOWA - BRAK TYLNEJ KANAPY !!!  CITROEN C3 II HATCHBACK SOCIETE PO FACELIFTINGU 1.4 HDi 68 KM (50kW) DIESEL  Pierwsza rejestracja: 24.09.2014 Rok produkcji: 2014  Przegląd do 12.2023 OC do 07.2024  Nr rej.: CB322JW  VIN - podany wyżej w szczegółach pojazdu !!!  Kolor - SREBRNY METALIK  Przebieg - 167 500 km (oryginalny przebieg)  Sprowadzony z Francji w 2019  Wyposażenie:  - SOCIETE - 2 osobowy - 5-cio biegowa skrzynia biegów - światła LED do jazdy dziennej - ABS - ESP - regulowana kierownica - 4 x AIRBAG - 2 x el.szyby - el.lusterka (podgrzewane) - klimatronic (automatyczna klimatyzacja) - klimatyzowany schowek - komputer pokładowy - regulacja wysokości fotela kierowcy - immobilizer - TEMPOMAT - oryginalne radio CD + Mp3 + USB - oryginalna KOLOROWA NAWIGACJA - zestaw głośnomówiący na Bluetooth - centralny zamek na pilota - 2 szt oryginalnych kluczy  Cena: 12 999 zł  Zapraszam na oględziny i jazdę próbną !!!',\n",
              " 'Wojewodztwo_sprzedajacego': 'Kujawsko-pomorskie'}"
            ]
          },
          "metadata": {},
          "execution_count": 35
        }
      ]
    },
    {
      "cell_type": "markdown",
      "metadata": {
        "id": "D_b6yOBMMVw4"
      },
      "source": [
        "## Functions"
      ]
    },
    {
      "cell_type": "code",
      "execution_count": 36,
      "metadata": {
        "id": "G6NZnLmRMXbN"
      },
      "outputs": [],
      "source": [
        "def get_offers(page_number):\n",
        "    '''\n",
        "    This function returns a part of HTML text that contains a link to the advertisements.\n",
        "    The URL for each car type has been pasted to avoid errors.\n",
        "    '''\n",
        "    #url = f\"https://www.otomoto.pl/osobowe/uzywane/seg-mini/od-2000?search%5Bfilter_enum_damaged%5D=0&search%5Bfilter_enum_registered%5D=1&search%5Bfilter_float_mileage%3Ato%5D=500000&page={page_number}&search%5Badvanced_search_expanded%5D=true\"\n",
        "    #url = f\"https://www.otomoto.pl/osobowe/uzywane/seg-city-car/od-2000?search%5Bfilter_enum_damaged%5D=0&search%5Bfilter_enum_registered%5D=1&search%5Bfilter_float_mileage%3Ato%5D=500000&page={page_number}&search%5Badvanced_search_expanded%5D=true\"\n",
        "    #url = f\"https://www.otomoto.pl/osobowe/uzywane/seg-coupe/od-2000?search%5Bfilter_enum_damaged%5D=0&search%5Bfilter_enum_registered%5D=1&search%5Bfilter_float_mileage%3Ato%5D=500000&page={page_number}\"\n",
        "    #url = f\"https://www.otomoto.pl/osobowe/uzywane/seg-cabrio/od-2000?search%5Bfilter_enum_damaged%5D=0&search%5Bfilter_enum_registered%5D=1&search%5Bfilter_float_mileage%3Ato%5D=500000&page={page_number}\"\n",
        "    #url = f\"https://www.otomoto.pl/osobowe/uzywane/seg-combi/od-2000?search%5Bfilter_enum_damaged%5D=0&search%5Bfilter_enum_registered%5D=1&search%5Bfilter_float_mileage%3Ato%5D=500000&page={page_number}&search%5Badvanced_search_expanded%5D=true\"\n",
        "    #url = f\"https://www.otomoto.pl/osobowe/uzywane/seg-compact/od-2000?search%5Bfilter_enum_damaged%5D=0&search%5Bfilter_enum_registered%5D=1&search%5Bfilter_float_mileage%3Ato%5D=500000&page={page_number}&search%5Badvanced_search_expanded%5D=true\"\n",
        "    #url = f\"https://www.otomoto.pl/osobowe/uzywane/seg-minivan/od-2000?search%5Bfilter_enum_damaged%5D=0&search%5Bfilter_enum_registered%5D=1&search%5Bfilter_float_mileage%3Ato%5D=500000&page={page_number}&search%5Badvanced_search_expanded%5D=true\"\n",
        "    #url = f\"https://www.otomoto.pl/osobowe/uzywane/seg-sedan/od-2000?search%5Bfilter_enum_damaged%5D=0&search%5Bfilter_enum_registered%5D=1&search%5Bfilter_float_mileage%3Ato%5D=500000&page={page_number}&search%5Badvanced_search_expanded%5D=true\"\n",
        "    url = f\"https://www.otomoto.pl/osobowe/uzywane/seg-suv/od-2000?search%5Bfilter_enum_damaged%5D=0&search%5Bfilter_enum_registered%5D=1&search%5Bfilter_float_mileage%3Ato%5D=500000&page={page_number}&search%5Badvanced_search_expanded%5D=true\"\n",
        "\n",
        "    response = requests.get(url)\n",
        "    sleep(0.5)\n",
        "    content = response.text\n",
        "    soup = BeautifulSoup(content, 'html.parser')\n",
        "    offers = soup.find_all('h1', {'class': \"ev7e6t89 ooa-1xvnx1e er34gjf0\"})\n",
        "    return offers\n",
        "\n",
        "\n",
        "def get_offers_url(offers):\n",
        "    '''\n",
        "    This function returns link to the advertisements.\n",
        "    '''\n",
        "    offers_url = []\n",
        "    for offer in offers:\n",
        "        offer_url = offer.find('a')['href']\n",
        "        if offer_url.startswith('https://www.otomoto.pl'):\n",
        "            offers_url.append(offer_url)\n",
        "    return offers_url\n",
        "\n",
        "\n",
        "def get_offer(offer_url):\n",
        "    '''\n",
        "    This function returns JSON with advertisement information.\n",
        "    '''\n",
        "    offer_response = requests.get(url=offer_url)\n",
        "    sleep(0.5)\n",
        "    offer_content = offer_response.text\n",
        "    offer_soup = BeautifulSoup(offer_content, 'html.parser')\n",
        "\n",
        "    try:\n",
        "        text = offer_soup.find('script', {'id': \"__NEXT_DATA__\"}).get_text()\n",
        "        data_json = json.loads(text)\n",
        "        return data_json\n",
        "    except:\n",
        "        pass\n",
        "\n",
        "\n",
        "\n",
        "def get_offer_data(offer_json):\n",
        "    '''\n",
        "    This function returns dictionary with selected advertisement information.\n",
        "    '''\n",
        "    adv = offer_json['props']['pageProps']['advert']\n",
        "    offer_data = {}\n",
        "\n",
        "    price = float(adv['price']['value'])\n",
        "    description = adv['description'].replace('\\n', ' ')\n",
        "    seller_province = adv['seller']['location']['region']\n",
        "    offer_params = adv['details']\n",
        "\n",
        "    for i in offer_params:\n",
        "        label = i['label']\n",
        "        value = i['value']\n",
        "        offer_data[label] = value\n",
        "\n",
        "    offer_data['cena'] = price\n",
        "    offer_data['opis'] = description\n",
        "    offer_data['Wojewodztwo_sprzedajacego'] = seller_province\n",
        "\n",
        "    return offer_data"
      ]
    },
    {
      "cell_type": "markdown",
      "metadata": {
        "id": "3v87Nz0vZUKu"
      },
      "source": [
        "## Scraping"
      ]
    },
    {
      "cell_type": "code",
      "execution_count": 37,
      "metadata": {
        "id": "ztAsf7Z9TVUx"
      },
      "outputs": [],
      "source": [
        "data = []"
      ]
    },
    {
      "cell_type": "code",
      "execution_count": 38,
      "metadata": {
        "colab": {
          "base_uri": "https://localhost:8080/"
        },
        "id": "LwtKDSoMTCho",
        "outputId": "22c34623-4e48-4ea3-b3fc-6ccc10d03eeb"
      },
      "outputs": [
        {
          "output_type": "stream",
          "name": "stdout",
          "text": [
            "Page number: 1\n",
            "Number of offers: 32\n",
            "----------------------------------------\n",
            "Page number: 2\n",
            "Number of offers: 64\n",
            "----------------------------------------\n",
            "Page number: 3\n",
            "Number of offers: 96\n",
            "----------------------------------------\n",
            "Page number: 4\n",
            "Number of offers: 128\n",
            "----------------------------------------\n"
          ]
        }
      ],
      "source": [
        "for page_number in range(1, 5):\n",
        "    offers = get_offers(page_number)\n",
        "    offers_url = get_offers_url(offers)\n",
        "    for offer_url in offers_url:\n",
        "        try:\n",
        "            offer_json = get_offer(offer_url)\n",
        "            offer_data = get_offer_data(offer_json)\n",
        "            data.append(offer_data)\n",
        "        except:\n",
        "            pass\n",
        "\n",
        "    print(f\"Page number: {page_number}\")\n",
        "    print(f\"Number of offers: {len(data)}\")\n",
        "    print(40 * '-')\n",
        "\n",
        "\n",
        "df = pd.DataFrame(data)\n",
        "df.drop_duplicates(inplace=True)\n",
        "car_type = data[0]['Typ nadwozia']\n",
        "df.to_csv(f'otomoto_{len(data)}_{car_type}.csv')"
      ]
    },
    {
      "cell_type": "code",
      "execution_count": 39,
      "metadata": {
        "colab": {
          "base_uri": "https://localhost:8080/"
        },
        "id": "elaekG16TtS2",
        "outputId": "921b3caf-6f2c-4f43-e32e-e2a3d3673ca9"
      },
      "outputs": [
        {
          "output_type": "execute_result",
          "data": {
            "text/plain": [
              "128"
            ]
          },
          "metadata": {},
          "execution_count": 39
        }
      ],
      "source": [
        "len(data)"
      ]
    },
    {
      "cell_type": "code",
      "execution_count": 40,
      "metadata": {
        "colab": {
          "base_uri": "https://localhost:8080/"
        },
        "id": "ivov4eQOT2HQ",
        "outputId": "884ba8fc-8244-4cde-c352-3b1f005a3ef5"
      },
      "outputs": [
        {
          "output_type": "execute_result",
          "data": {
            "text/plain": [
              "{'Oferta od': 'Prywatne',\n",
              " 'Importowany': 'Tak',\n",
              " 'Pokaż oferty z numerem VIN': 'Tak',\n",
              " 'Marka pojazdu': 'Audi',\n",
              " 'Model pojazdu': 'Q3',\n",
              " 'Wersja': '45 TFSI Quattro S Line S tronic',\n",
              " 'Rok produkcji': '2021',\n",
              " 'Przebieg': '27 000 km',\n",
              " 'Pojemność skokowa': '1 984 cm3',\n",
              " 'VIN': 'WA1FECF32M1031800',\n",
              " 'Rodzaj paliwa': 'Benzyna',\n",
              " 'Moc': '230 KM',\n",
              " 'Skrzynia biegów': 'Automatyczna',\n",
              " 'Napęd': '4x4 (dołączany automatycznie)',\n",
              " 'Spalanie W Mieście': '9 l/100km',\n",
              " 'Typ nadwozia': 'SUV',\n",
              " 'Liczba drzwi': '5',\n",
              " 'Liczba miejsc': '5',\n",
              " 'Kolor': 'Czarny',\n",
              " 'Rodzaj koloru': 'Metalik',\n",
              " 'Leasing': 'Tak',\n",
              " 'Zarejestrowany w Polsce': 'Tak',\n",
              " 'Bezwypadkowy': 'Tak',\n",
              " 'Serwisowany w ASO': 'Tak',\n",
              " 'Stan': 'Używane',\n",
              " 'cena': 169900.0,\n",
              " 'opis': 'Na sprzedaż piękne Audi Q3 z 2021 roku z automatyczną 8 stopniową skrzynią biegów z napędem Quattro.  Auto w bardzo bogatej wersji wyposażeniowej.  Użytkowane prywatnie. Nie wymaga żadnego wkladu finansowego. W perfekcyjnym stanie zarówno wizaulanym jak i technicznym. Sprzedaż w oparciu o umowę sprzedaży lub fakturę VAT-marża (Możliwa FV 23% po dodaniu podatku) Możliwość zakupu pojazdu w kredycie lub leasingu Kupujący zwolniony z opłaty skarbowej Możliwość weryfikacji pojazdu na dowolnej stacji diagnostycznej\\xa0w\\xa0okolicy  WYPOSAŻENIE: Lampy przód LED Dynamic + doświetlanie zakrętów Lampy tył LED (kierunkowskaz animowany) Halogeny LED Asystent martwego pola Asystent pasa ruchu PLUS Asystent ostrzegający przed obiektami z przodu Asystent parkowania Asystent jazdy na wzniesieniach Rozpoznawanie znaków drogowych Kamery 360 Kamera cofania Aktywny tempomat z funkcją hamowania Skórzana tapicerka Podgrzewane fotele z elektryczną regulacją Fotele z regulacją odcinka lędźwiowego Podgrzewana wielofunkcyjna skórzana kierownica Dostęp bezkluczykowy Otwieranie klapy bagażnika stopą Panoramiczny dach Nagłośnienie Bang & Olufsen + subwoofer Oświetlenie wnętrza ambientowe (kilkanaście kolorów do wyboru) Aluminiowe 19 calowe felgi + opony całoroczne Interaktywny kokpit  System nawigacyjny HIGH Aktualne mapy Polski oraz Europy Car Play (Apple, Android) Ładowarka indukcyjna Zmiana trybów jazdy',\n",
              " 'Wojewodztwo_sprzedajacego': 'Wielkopolskie'}"
            ]
          },
          "metadata": {},
          "execution_count": 40
        }
      ],
      "source": [
        "data[0]"
      ]
    },
    {
      "cell_type": "code",
      "execution_count": 41,
      "metadata": {
        "colab": {
          "base_uri": "https://localhost:8080/"
        },
        "id": "532jFZaUZBlc",
        "outputId": "5f36422c-783c-4c34-976e-7832829cca0b"
      },
      "outputs": [
        {
          "output_type": "execute_result",
          "data": {
            "text/plain": [
              "0"
            ]
          },
          "metadata": {},
          "execution_count": 41
        }
      ],
      "source": [
        "df.duplicated().sum()"
      ]
    },
    {
      "cell_type": "code",
      "execution_count": 42,
      "metadata": {
        "colab": {
          "base_uri": "https://localhost:8080/"
        },
        "id": "OBKiolmiwjyS",
        "outputId": "56e09925-3135-487e-94ec-03087d9e84df"
      },
      "outputs": [
        {
          "output_type": "stream",
          "name": "stdout",
          "text": [
            "<class 'pandas.core.frame.DataFrame'>\n",
            "Int64Index: 125 entries, 0 to 127\n",
            "Data columns (total 46 columns):\n",
            " #   Column                                         Non-Null Count  Dtype  \n",
            "---  ------                                         --------------  -----  \n",
            " 0   Oferta od                                      125 non-null    object \n",
            " 1   Importowany                                    39 non-null     object \n",
            " 2   Pokaż oferty z numerem VIN                     124 non-null    object \n",
            " 3   Marka pojazdu                                  125 non-null    object \n",
            " 4   Model pojazdu                                  125 non-null    object \n",
            " 5   Wersja                                         97 non-null     object \n",
            " 6   Rok produkcji                                  125 non-null    object \n",
            " 7   Przebieg                                       125 non-null    object \n",
            " 8   Pojemność skokowa                              123 non-null    object \n",
            " 9   VIN                                            124 non-null    object \n",
            " 10  Rodzaj paliwa                                  125 non-null    object \n",
            " 11  Moc                                            125 non-null    object \n",
            " 12  Skrzynia biegów                                125 non-null    object \n",
            " 13  Napęd                                          120 non-null    object \n",
            " 14  Spalanie W Mieście                             76 non-null     object \n",
            " 15  Typ nadwozia                                   125 non-null    object \n",
            " 16  Liczba drzwi                                   124 non-null    object \n",
            " 17  Liczba miejsc                                  120 non-null    object \n",
            " 18  Kolor                                          125 non-null    object \n",
            " 19  Rodzaj koloru                                  88 non-null     object \n",
            " 20  Leasing                                        21 non-null     object \n",
            " 21  Zarejestrowany w Polsce                        125 non-null    object \n",
            " 22  Bezwypadkowy                                   91 non-null     object \n",
            " 23  Serwisowany w ASO                              89 non-null     object \n",
            " 24  Stan                                           125 non-null    object \n",
            " 25  cena                                           125 non-null    float64\n",
            " 26  opis                                           125 non-null    object \n",
            " 27  Wojewodztwo_sprzedajacego                      125 non-null    object \n",
            " 28  Generacja                                      65 non-null     object \n",
            " 29  Możliwość finansowania                         32 non-null     object \n",
            " 30  Faktura VAT                                    23 non-null     object \n",
            " 31  Kraj pochodzenia                               103 non-null    object \n",
            " 32  Data pierwszej rejestracji w historii pojazdu  95 non-null     object \n",
            " 33  Ma numer rejestracyjny                         81 non-null     object \n",
            " 34  Spalanie Poza Miastem                          47 non-null     object \n",
            " 35  Emisja CO2                                     49 non-null     object \n",
            " 36   Pierwszy właściciel (od nowości)              62 non-null     object \n",
            " 37  VAT marża                                      12 non-null     object \n",
            " 38  Okres gwarancji producenta                     8 non-null      object \n",
            " 39  lub do (przebieg km)                           6 non-null      object \n",
            " 40  Tuning                                         2 non-null      object \n",
            " 41  Autonomia                                      1 non-null      object \n",
            " 42  Średnie zużycie                                1 non-null      object \n",
            " 43  Rodzaj własności baterii                       1 non-null      object \n",
            " 44  Spalanie W Cyklu Mieszanym                     1 non-null      object \n",
            " 45  Gwarancja dealerska (w cenie)                  2 non-null      object \n",
            "dtypes: float64(1), object(45)\n",
            "memory usage: 45.9+ KB\n"
          ]
        }
      ],
      "source": [
        "df.info()"
      ]
    }
  ],
  "metadata": {
    "colab": {
      "provenance": [],
      "authorship_tag": "ABX9TyNN3AncVLPAisV3Pt5KjB4Y",
      "include_colab_link": true
    },
    "kernelspec": {
      "display_name": "Python 3",
      "name": "python3"
    },
    "language_info": {
      "name": "python"
    }
  },
  "nbformat": 4,
  "nbformat_minor": 0
}